{
  "nbformat": 4,
  "nbformat_minor": 0,
  "metadata": {
    "colab": {
      "name": "Untitled0.ipynb",
      "provenance": [],
      "authorship_tag": "ABX9TyMsp1YTCOXCe0RIcCbND1J+",
      "include_colab_link": true
    },
    "kernelspec": {
      "name": "python3",
      "display_name": "Python 3"
    },
    "language_info": {
      "name": "python"
    }
  },
  "cells": [
    {
      "cell_type": "markdown",
      "metadata": {
        "id": "view-in-github",
        "colab_type": "text"
      },
      "source": [
        "<a href=\"https://colab.research.google.com/github/LayaneSMA/SOFTEX/blob/main/Untitled0.ipynb\" target=\"_parent\"><img src=\"https://colab.research.google.com/assets/colab-badge.svg\" alt=\"Open In Colab\"/></a>"
      ]
    },
    {
      "cell_type": "code",
      "execution_count": 1,
      "metadata": {
        "colab": {
          "base_uri": "https://localhost:8080/"
        },
        "id": "fEga1yMzQJ0a",
        "outputId": "62e4250a-32f5-429e-9870-6f466db36cf2"
      },
      "outputs": [
        {
          "output_type": "stream",
          "name": "stdout",
          "text": [
            "INICIANDO CONTAGEM REGRESSIVA...\n",
            "10\n",
            "9\n",
            "8\n",
            "7\n",
            "6\n",
            "5\n",
            "4\n",
            "3\n",
            "2\n",
            "1\n",
            "BUUMMM!\n"
          ]
        }
      ],
      "source": [
        "from time import sleep\n",
        "print(\"INICIANDO CONTAGEM REGRESSIVA...\")\n",
        "for cont in range (10 , 0 , -1) : \n",
        "  print (cont)\n",
        "  sleep (1)\n",
        "print(\"BUUMMM!\")"
      ]
    },
    {
      "cell_type": "code",
      "source": [
        ""
      ],
      "metadata": {
        "id": "T3LyGUsDQM9b"
      },
      "execution_count": null,
      "outputs": []
    }
  ]
}