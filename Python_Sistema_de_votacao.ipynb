{
  "cells": [
    {
      "cell_type": "markdown",
      "metadata": {
        "id": "view-in-github",
        "colab_type": "text"
      },
      "source": [
        "<a href=\"https://colab.research.google.com/github/LayaneSMA/SOFTEX/blob/main/Python_Sistema_de_votacao.ipynb\" target=\"_parent\"><img src=\"https://colab.research.google.com/assets/colab-badge.svg\" alt=\"Open In Colab\"/></a>"
      ]
    },
    {
      "cell_type": "code",
      "execution_count": null,
      "metadata": {
        "id": "JtQU3jy1qsJT"
      },
      "outputs": [],
      "source": [
        "#Desenvolva um código que simule uma eleição com três candidatos.\n",
        "#- candidato_X => 889\n",
        "#- candidato_Y => 847\n",
        "#- candidato_Z => 515\n",
        "#- branco => 0\n",
        "\n",
        "#O código deve perguntar se deseja finalizar a votação depois do voto. \n",
        "#Caso o número do voto não corresponda a nenhum candidato ou seja branco, \n",
        "#ele deve ser tratado como nulo. Se for inserido um texto ao invés de número, \n",
        "#o código deve retornar uma mensagem para votar novamente.\n",
        "\n",
        "#Quando a votação for finalizada, o código deverá mostrar o vencedor, \n",
        "#quele com o maior número de votos e, \n",
        "#também, a quantidade de votos de cada candidato, os brancos e nulos \n",
        "\n",
        "\n",
        "\n",
        "VOTOS_X = 0\n",
        "VOTOS_Y = 0\n",
        "VOTOS_Z = 0\n",
        "VOTOS_BRANCO = 0\n",
        "\n",
        "print(\"-\"*30)\n",
        "print(\"ELEIÇÕES 2022\")\n",
        "print(\"-\"*30)\n",
        "\n",
        "\n",
        "while True :\n",
        "  print(\"-\"*30)\n",
        "  print(\"Para votar em:\")\n",
        "  print(\"candidato_X - Digite: 889 \")\n",
        "  print(\"candidato_Y - Digite: 847\")\n",
        "  print(\"candidato_Z - Digite: 515\")\n",
        "  print(\"BRANCO - Digite: 0\")\n",
        "  try:\n",
        "    voto = int(input(\"VOTO: \"))\n",
        "    if voto == 889 :\n",
        "      VOTOS_X += 1\n",
        "    elif voto == 847 :\n",
        "      VOTOS_Y += 1\n",
        "    elif voto == 515 :\n",
        "      VOTOS_Z += 1\n",
        "    else :\n",
        "      VOTOS_BRANCO += 1\n",
        "  except :\n",
        "      print(\"ERRO! Você não digitou um número.\")\n",
        "    \n",
        "\n",
        "  print(\"Deseja finalizar a votação? \\n[1] SIM \\n[2] NÃO\")\n",
        "  try:\n",
        "    finalizar = int(input())\n",
        "    if finalizar == 1 :\n",
        "      print(\"Votações encerradas!\")\n",
        "      print(\"-\"*30)\n",
        "      print(\"RESULTADO DAS ELEIÇÕES 2022\")\n",
        "      print(\"-\"*30)\n",
        "      print(\"candidato_X  Nº Votos :\", VOTOS_X)\n",
        "      print(\"candidato_Y  Nº Votos :\", VOTOS_Y) \n",
        "      print(\"candidato_Z  Nº Votos :\", VOTOS_Z)\n",
        "      print(\"BRANCO/NULO  Nº Votos :\", VOTOS_BRANCO)\n",
        "      break\n",
        "    if finalizar == 2 :\n",
        "      print(\"-\"*30)\n",
        "      print(\"ELEIÇÕES 2022\")\n",
        "      print(\"-\"*30)\n",
        "    else :\n",
        "      print(\"Opção inválida!\")\n",
        "  except :\n",
        "    print(\"ERRO: Digite apenas 1 ou 2 para opção desejada.\")  \n",
        "\n",
        "   \n",
        "\n",
        "  \n"
      ]
    }
  ],
  "metadata": {
    "colab": {
      "collapsed_sections": [],
      "name": "Python_Sistema_de_votacao",
      "provenance": [],
      "authorship_tag": "ABX9TyPcS0+iPcBiwYpUcdWzbZuH",
      "include_colab_link": true
    },
    "kernelspec": {
      "display_name": "Python 3",
      "name": "python3"
    },
    "language_info": {
      "name": "python"
    }
  },
  "nbformat": 4,
  "nbformat_minor": 0
}