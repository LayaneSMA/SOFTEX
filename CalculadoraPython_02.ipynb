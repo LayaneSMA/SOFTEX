{
  "nbformat": 4,
  "nbformat_minor": 0,
  "metadata": {
    "colab": {
      "name": "CalculadoraPython_02",
      "provenance": [],
      "collapsed_sections": [],
      "authorship_tag": "ABX9TyNsKpKaHPVtsy3HsQg9Qtcq",
      "include_colab_link": true
    },
    "kernelspec": {
      "name": "python3",
      "display_name": "Python 3"
    },
    "language_info": {
      "name": "python"
    }
  },
  "cells": [
    {
      "cell_type": "markdown",
      "metadata": {
        "id": "view-in-github",
        "colab_type": "text"
      },
      "source": [
        "<a href=\"https://colab.research.google.com/github/LayaneSMA/SOFTEX/blob/main/CalculadoraPython_02.ipynb\" target=\"_parent\"><img src=\"https://colab.research.google.com/assets/colab-badge.svg\" alt=\"Open In Colab\"/></a>"
      ]
    },
    {
      "cell_type": "code",
      "execution_count": null,
      "metadata": {
        "id": "mT59T6PUXq4C"
      },
      "outputs": [],
      "source": [
        "# PROJETO :\n",
        "# Faça uma função calculadora que os números e as operações serão feitas pelo usuário. \n",
        "# O código deve ficar rodando infinitamente até que o usuário escolha a opção de sair. \n",
        "# No início, o programa mostrará a seguinte lista de operações:\n",
        "# 1: Soma\n",
        "# 2: Subtração\n",
        "# 3: Multiplicação\n",
        "# 4: Divisão\n",
        "# 0: Sair\n",
        "# Digite o número para a operação correspondente e caso o usuário introduza qualquer outro, o sistema deve mostrar a mensagem “Essa opção não existe” e voltar ao menu de opções.\n",
        "# Após a seleção, o sistema deve pedir para o usuário inserir o primeiro e segundo valor, um de cada. \n",
        "# Depois precisa executar a operação e mostrar o resultado na tela. \n",
        "# Quando o usuário escolher a opção “Sair”, o sistema irá parar. \n",
        "# É necessário que o sistema mostre as opções sempre que finalizar uma operação e mostrar o resultado.\n",
        "\n",
        "\n",
        "print ( \"-\"*50)\n",
        "print (\"CALCULADORA\")\n",
        "print ( \"-\"*50)\n",
        "\n",
        "menu = \"[1] SOMA\\n[2] SUBTRAÇÃO\\n[3] MULTIPLICAÇÃO\\n[4] DIVISÃO\\n[0] SAIR\"\n",
        "def soma():\n",
        "    num1 = float(input(\"Insira o primeiro numero: \"))\n",
        "    num2 = float(input(\"Insira o segundo numero: \"))\n",
        "    resultado = num1 + num2\n",
        "    print(num1, \"+\" , num2, \"=\", resultado)\n",
        "\n",
        "def subtracao():\n",
        "    num1 = float(input(\"Insira o primeiro numero: \"))\n",
        "    num2 = float(input(\"Insira o segundo numero: \"))\n",
        "    resultado = num1 - num2\n",
        "    print(num1, \"-\" , num2, \"=\", resultado)\n",
        "\n",
        "def multiplicacao():\n",
        "    num1 = float(input(\"Insira o primeiro numero: \"))\n",
        "    num2 = float(input(\"Insira o segundo numero: \"))\n",
        "    resultado = num1 * num2\n",
        "    print(num1, \"*\" , num2, \"=\", resultado)\n",
        "\n",
        "def divisao():\n",
        "    num1 = float(input(\"Insira o primeiro numero: \"))\n",
        "    num2 = float(input(\"Insira o segundo numero: \"))\n",
        "    resultado = num1 / num2\n",
        "    print(num1, \"/\" , num2, \"=\", resultado)\n",
        "\n",
        "opcao=1\n",
        "\n",
        "while opcao:\n",
        "    \n",
        "    print(menu)\n",
        "    \n",
        "    opcao = int(input(\"Digite o número para a operação correspondente: \"))\n",
        "\n",
        "    if opcao==1:\n",
        "        soma()\n",
        "    if opcao==2:\n",
        "        subtracao()\n",
        "    if opcao==3:\n",
        "        multiplicacao()\n",
        "    if opcao==4:\n",
        "        divisao()\n",
        "    if opcao==0 :\n",
        "      print(\"SAIR\")\n",
        "      break\n",
        "    elif opcao > 4 :\n",
        "      print(\"ESSA OPÇÃO NÃO EXISTE!\")\n",
        "    "
      ]
    }
  ]
}