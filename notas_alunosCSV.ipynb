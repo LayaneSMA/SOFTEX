{
  "nbformat": 4,
  "nbformat_minor": 0,
  "metadata": {
    "colab": {
      "provenance": [],
      "collapsed_sections": [],
      "authorship_tag": "ABX9TyNGOxVYexHABVrvbG80q2KV",
      "include_colab_link": true
    },
    "kernelspec": {
      "name": "python3",
      "display_name": "Python 3"
    },
    "language_info": {
      "name": "python"
    }
  },
  "cells": [
    {
      "cell_type": "markdown",
      "metadata": {
        "id": "view-in-github",
        "colab_type": "text"
      },
      "source": [
        "<a href=\"https://colab.research.google.com/github/LayaneSMA/SOFTEX/blob/main/notas_alunosCSV.ipynb\" target=\"_parent\"><img src=\"https://colab.research.google.com/assets/colab-badge.svg\" alt=\"Open In Colab\"/></a>"
      ]
    },
    {
      "cell_type": "code",
      "source": [
        "# Desenvolva um programa que deve ler um arquivo csv intitulado \n",
        "# “notas_alunos.csv”. O arquivo deve ter a seguinte estrutura:\n",
        "\n",
        "# aluno: Nome do aluno;\n",
        "# nota_1: Primeira nota;\n",
        "# nota_2: Segunda nota;\n",
        "# faltas: Número de faltas;\n",
        "\n",
        "# O programa lerá esse arquivo e criará duas colunas. \n",
        "# A primeira coluna será “media”, que terá a média das duas notas do aluno. \n",
        "# A segunda será “situacao”, com os valores: APROVADO ou REPROVADO.\n",
        "\n",
        "#O aluno que tiver mais de 5 faltas ou possuir média menor \n",
        "# que sete, será reprovado. O programa deverá salvar esse novo dataframe \n",
        "# com o nome “alunos_situacao.csv”.\n",
        "\n",
        "# Por fim, o programa deverá mostrar na tela:\n",
        "# - o maior número de faltas;\n",
        "# - a média geral das notas dos alunos;\n",
        "# - e a maior média.\n"
      ],
      "metadata": {
        "id": "EhlaBiS8bGuH"
      },
      "execution_count": null,
      "outputs": []
    },
    {
      "cell_type": "code",
      "source": [
        "import pandas as pd \n",
        "\n",
        "df = pd.read_csv(\"notas_alunos.csv\", sep=\";\")\n",
        "\n",
        "df [\"média\"] = (df[\"nota_1\"]+df[\"nota_2\"]) /2\n",
        "\n",
        "df.loc[df[\"média\"] < 7, \"situação\"] = \"REPROVADO\"\n",
        "\n",
        "df.loc[df[\"média\"] >= 7, \"situação\"] = \"APROVADO\"\n",
        "\n",
        "df.loc[df[\"faltas\"] >5, \"situação\"] = \"REPROVADO\"\n",
        "\n",
        "df.to_csv(\"alunos_situacao_csv\", sep=\";\")\n",
        "\n",
        "print(df)\n",
        "print(\"Maior número de faltas: \"+str(df[\"faltas\"].max()))\n",
        "print(\"Média geral: \"+str(df[\"média\"].median()))\n",
        "print(\"Maior média:\" +str(df[\"média\"].max()))"
      ],
      "metadata": {
        "colab": {
          "base_uri": "https://localhost:8080/"
        },
        "id": "oTA98KNnZNj0",
        "outputId": "ad9a7624-4528-4886-8df8-68ed7ee1aadd"
      },
      "execution_count": 38,
      "outputs": [
        {
          "output_type": "stream",
          "name": "stdout",
          "text": [
            "     aluno  nota_1  nota_2  faltas  Unnamed: 4  média   situação\n",
            "0  aluno_1       7       7       1         NaN    7.0   APROVADO\n",
            "1  aluno_2       3      10       7         NaN    6.5  REPROVADO\n",
            "2  aluno_3       9       4       2         NaN    6.5  REPROVADO\n",
            "3  aluno_4      10       6       9         NaN    8.0  REPROVADO\n",
            "Maior número de faltas: 9\n",
            "Média geral: 6.75\n",
            "Maior média:8.0\n"
          ]
        }
      ]
    }
  ]
}