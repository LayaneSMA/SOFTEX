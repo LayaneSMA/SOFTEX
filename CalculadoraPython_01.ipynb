{
  "nbformat": 4,
  "nbformat_minor": 0,
  "metadata": {
    "colab": {
      "name": "CalculadoraPython_01",
      "provenance": [],
      "authorship_tag": "ABX9TyNDN2UBY/Yb0tUwg1e1sP/b",
      "include_colab_link": true
    },
    "kernelspec": {
      "name": "python3",
      "display_name": "Python 3"
    },
    "language_info": {
      "name": "python"
    }
  },
  "cells": [
    {
      "cell_type": "markdown",
      "metadata": {
        "id": "view-in-github",
        "colab_type": "text"
      },
      "source": [
        "<a href=\"https://colab.research.google.com/github/LayaneSMA/SOFTEX/blob/main/CalculadoraPython_01.ipynb\" target=\"_parent\"><img src=\"https://colab.research.google.com/assets/colab-badge.svg\" alt=\"Open In Colab\"/></a>"
      ]
    },
    {
      "cell_type": "code",
      "execution_count": null,
      "metadata": {
        "id": "aU7etDCcTlKn"
      },
      "outputs": [],
      "source": [
        "# Projeto:\n",
        "# Faça uma função calculadora de dois números com três parâmetros: \n",
        "# os dois primeiros serão os números da operação e o terceiro será a entrada que definirá a operação a ser executada. \n",
        "# Considera a seguinte definição:\n",
        "# 1. Soma\n",
        "# 2. Subtração\n",
        "# 3. Multiplicação\n",
        "# 4. Divisão\n",
        "# Caso seja inserido um número de operação que não exista, o resultado deverá ser 0.\n",
        "# ____________\n",
        "\n",
        "print ( \"-\"*50)\n",
        "print (\"CALCULADORA\")\n",
        "print ( \"-\"*50)\n",
        "\n",
        "menu = \"[1] SOMA\\n[2] SUBTRAÇÃO\\n[3] MULTIPLICAÇÃO\\n[4] DIVISÃO\"\n",
        "print(menu)\n",
        "operacao = int (input(\"Digite o número para a operação correspondente:\"))  \n",
        "num1 = float (input(\"Insira o primeiro número para realizar a operação:\"))\n",
        "num2 = float (input(\"Insira o segundo número para realizar a operação:\"))\n",
        "\n",
        "def calculadora(num1, num2 , operacao) :\n",
        "  if operacao == 1 :\n",
        "    resultado = num1 + num2\n",
        "  elif operacao == 2 :\n",
        "    resultado = num1 - num2\n",
        "  elif operacao == 3 :\n",
        "    resultado = num1*num2\n",
        "  elif operacao == 4 :\n",
        "    resultado = num1/num2\n",
        "  else :\n",
        "    resultado = \"0\"\n",
        "  return resultado\n",
        "\n",
        "resultado = calculadora(num1, num2, operacao)\n",
        "\n",
        "if operacao == 1 :\n",
        "    print(num1, \" + \" , num2, \"= \", resultado)\n",
        "elif operacao == 2 :\n",
        "    print(num1, \" - \" , num2, \"= \", resultado)\n",
        "elif operacao == 3 :\n",
        "    print(num1, \" * \" , num2, \"= \", resultado)\n",
        "elif operacao == 4 :\n",
        "    print(num1, \" / \" , num2, \"= \", resultado)\n",
        "else :\n",
        "    print(resultado)\n",
        "\n"
      ]
    }
  ]
}