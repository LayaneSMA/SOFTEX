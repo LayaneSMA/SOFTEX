{
  "nbformat": 4,
  "nbformat_minor": 0,
  "metadata": {
    "colab": {
      "provenance": [],
      "collapsed_sections": [],
      "authorship_tag": "ABX9TyNm9GOqvVxFJKTwe5gWBZOG",
      "include_colab_link": true
    },
    "kernelspec": {
      "name": "python3",
      "display_name": "Python 3"
    },
    "language_info": {
      "name": "python"
    }
  },
  "cells": [
    {
      "cell_type": "markdown",
      "metadata": {
        "id": "view-in-github",
        "colab_type": "text"
      },
      "source": [
        "<a href=\"https://colab.research.google.com/github/LayaneSMA/SOFTEX/blob/main/ClassePython.ipynb\" target=\"_parent\"><img src=\"https://colab.research.google.com/assets/colab-badge.svg\" alt=\"Open In Colab\"/></a>"
      ]
    },
    {
      "cell_type": "code",
      "source": [
        "# Crie uma classe de sua preferência com:\n",
        "# No mínimo, uma variável,um método e um incremento. \n",
        "# Depois, desenvolva três ou mais objetos para testar o código."
      ],
      "metadata": {
        "id": "-WeZsApvTDwB"
      },
      "execution_count": null,
      "outputs": []
    },
    {
      "cell_type": "code",
      "execution_count": 88,
      "metadata": {
        "colab": {
          "base_uri": "https://localhost:8080/"
        },
        "id": "VVAm262dk1ty",
        "outputId": "1c9029f4-323a-4279-9f5a-fbe439f25d8c"
      },
      "outputs": [
        {
          "output_type": "stream",
          "name": "stdout",
          "text": [
            "--------------------------------------------------\n",
            "CURSOS DE PROGRAMAÇÃO EM RECIFE\n",
            "--------------------------------------------------\n",
            " 1 - Formação em Front-end da Instituição Softex.\n",
            " 2 - Formação em Full stack da Instituição Senac.\n",
            " 3 - Formação em Back-end da Instituição César School.\n"
          ]
        }
      ],
      "source": [
        "print(\"-\"*50)\n",
        "print(\"CURSOS DE PROGRAMAÇÃO EM RECIFE\")\n",
        "print(\"-\"*50)\n",
        "\n",
        "class CursoProgramacao :\n",
        "  i = 0\n",
        "  def __init__(self, modalidade, instituicao) :\n",
        "    CursoProgramacao.i += 1\n",
        "    self.modalidade = modalidade\n",
        "    self.instituicao = instituicao \n",
        "  def classificacao(self):\n",
        "    print(f\" {CursoProgramacao.i} - Formação em {self.modalidade} da Instituição {self.instituicao}.\")\n",
        "    \n",
        "Curso1 = CursoProgramacao(\"Front-end\", \"Softex\")\n",
        "Curso1.classificacao()\n",
        "\n",
        "Curso2 = CursoProgramacao(\"Full stack\", \"Senac\")\n",
        "Curso2.classificacao()\n",
        "\n",
        "Curso3 = CursoProgramacao(\"Back-end\", \"César School\")\n",
        "Curso3.classificacao()"
      ]
    }
  ]
}