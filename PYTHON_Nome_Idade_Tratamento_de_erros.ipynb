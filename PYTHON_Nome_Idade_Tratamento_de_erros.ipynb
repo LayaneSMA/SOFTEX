{
  "nbformat": 4,
  "nbformat_minor": 0,
  "metadata": {
    "colab": {
      "name": "PYTHON_Nome_Idade_Tratamento de erros",
      "provenance": [],
      "collapsed_sections": [],
      "authorship_tag": "ABX9TyOGLsglGJtDHgCvWbfdWoMk",
      "include_colab_link": true
    },
    "kernelspec": {
      "name": "python3",
      "display_name": "Python 3"
    },
    "language_info": {
      "name": "python"
    }
  },
  "cells": [
    {
      "cell_type": "markdown",
      "metadata": {
        "id": "view-in-github",
        "colab_type": "text"
      },
      "source": [
        "<a href=\"https://colab.research.google.com/github/LayaneSMA/SOFTEX/blob/main/PYTHON_Nome_Idade_Tratamento_de_erros.ipynb\" target=\"_parent\"><img src=\"https://colab.research.google.com/assets/colab-badge.svg\" alt=\"Open In Colab\"/></a>"
      ]
    },
    {
      "cell_type": "code",
      "execution_count": null,
      "metadata": {
        "id": "oa7HzfGflWoF"
      },
      "outputs": [],
      "source": [
        "#PROJETO:\n",
        "#Desenvolva um programa que recebe do usuário nome completo e ano de nascimento que seja entre 1922 e 2021. \n",
        "#A partir dessas informações, o sistema mostrará o nome do usuário e a idade que completou, ou completará, no ano atual (2022).\n",
        "#Caso o usuário não digite um número ou apareça um inválido no campo do ano, o sistema informará o erro e continuará perguntando até que um valor correto seja preenchido.\n",
        "\n",
        "nome = \"\"\n",
        "while nome.isalpha() == False:\n",
        "    nome = input(\"Digite seu nome completo: \")\n",
        "    if all(c.isalpha() or c.isspace() for c in nome): #Permite que seja aceito apenas letras e espaço na str.\n",
        "      break\n",
        "    else :\n",
        "      print(\"Opa! Algo errado. Digite um nome válido(apenas letras e espaço)\")\n",
        "\n",
        "ano=False\n",
        "while (ano == False) :\n",
        "  print(\"Insira a sua data de nascimento: \")\n",
        "  try:\n",
        "    ano == False\n",
        "    nascimento = int(input())\n",
        "    if (nascimento <= 2021) and (nascimento >= 1922) :\n",
        "      ano = True\n",
        "    else :\n",
        "      print(\"Atenção: o ano precisa ser entre 1922 e 2021!\")\n",
        "  except:\n",
        "    print(\"Opa! Digitou algo errado.\")\n",
        "\n",
        "\n",
        "print(\"Nome: \", nome)\n",
        "idade = 2022 - nascimento\n",
        "print(\"Idade : \", idade) \n"
      ]
    }
  ]
}