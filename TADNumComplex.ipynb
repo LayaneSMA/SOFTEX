{
  "nbformat": 4,
  "nbformat_minor": 0,
  "metadata": {
    "colab": {
      "provenance": [],
      "collapsed_sections": [],
      "authorship_tag": "ABX9TyPIuTWZMP3s9p8JnX52MnkF",
      "include_colab_link": true
    },
    "kernelspec": {
      "name": "python3",
      "display_name": "Python 3"
    },
    "language_info": {
      "name": "python"
    }
  },
  "cells": [
    {
      "cell_type": "markdown",
      "metadata": {
        "id": "view-in-github",
        "colab_type": "text"
      },
      "source": [
        "<a href=\"https://colab.research.google.com/github/LayaneSMA/SOFTEX/blob/main/TADNumComplex.ipynb\" target=\"_parent\"><img src=\"https://colab.research.google.com/assets/colab-badge.svg\" alt=\"Open In Colab\"/></a>"
      ]
    },
    {
      "cell_type": "code",
      "execution_count": null,
      "metadata": {
        "id": "wqmQpvgPZGpr"
      },
      "outputs": [],
      "source": [
        "# Crie um tipo abstrato de dado (TAD) \n",
        "# para manipular números complexos na linguagem Python.\n",
        "# O método deve:\n",
        "\n",
        "# calcular três números complexos;\n",
        "# realizar todas as operações básicas;\n",
        "# imprimir as propriedades real e img do números.\n",
        "\n"
      ]
    },
    {
      "cell_type": "code",
      "source": [
        "class numComplexo :\n",
        "\n",
        "  def __init__(self, complexo_1, complexo_2, complexo_3):\n",
        "        self.complexo_1 = complexo_1\n",
        "        self.complexo_2 = complexo_2\n",
        "        self.complexo_3 = complexo_3\n",
        "\n",
        "\n",
        "  print('-'*30)\n",
        "  print(\"PRIMEIRO NÚMERO COMPLEXO\")\n",
        "  print('-'*30)\n",
        "\n",
        "  real_1 = int(input(\" Digite a parte REAL : \"))\n",
        "  imaginario_1 = int(input(\" Digite a parte IMAGINÁRIA : \"))\n",
        "\n",
        "  complexo_1 = complex(real_1, imaginario_1)\n",
        "\n",
        "  print('-'*30)\n",
        "  print(\"SEGUNDO NÚMERO COMPLEXO\")\n",
        "  print('-'*30)\n",
        "\n",
        "  real_2 = int(input(\" Digite a parte REAL : \"))\n",
        "  imaginario_2 = int(input(\" Digite a parte IMAGINÁRIA : \"))\n",
        "\n",
        "  complexo_2 = complex(real_2, imaginario_2)\n",
        "\n",
        "  print('-'*30)\n",
        "  print(\"TERCEIRO NÚMERO COMPLEXO\")\n",
        "  print('-'*30)\n",
        "\n",
        "  real_3 = int(input(\" Digite a parte REAL : \"))\n",
        "  imaginario_3 = int(input(\" Digite a parte IMAGINÁRIA : \"))\n",
        "\n",
        "  complexo_3 = complex(real_3, imaginario_3)\n",
        "\n",
        "  print('-'*30)\n",
        "  print(\"OPERAÇÕES COM NÚMEROS COMPLEXOS\")\n",
        "  print('-'*30)\n",
        "\n",
        "  print(\"SOMA:\")\n",
        "  print(complexo_1, \" + \", complexo_2,  \" + \", complexo_3)\n",
        "  soma = complexo_1 + complexo_2 + complexo_3\n",
        "  print(\"Resultado da operação : \", soma)\n",
        "\n",
        "  print('-'*30)\n",
        "\n",
        "  print (\"SUBTRAÇÃO\")\n",
        "  print(complexo_1, \" - \", complexo_2,  \" - \", complexo_3)\n",
        "  subtracao = complexo_1 - complexo_2 - complexo_3\n",
        "  print(\"Resultado da operação : \", subtracao)\n",
        "\n",
        "  print('-'*30)\n",
        "  print (\"MULTIPLICAÇÃO\")\n",
        "  print(complexo_1, \" * \", complexo_2,  \" * \", complexo_3)\n",
        "  multiplicacao = complexo_1 * complexo_2 * complexo_3\n",
        "  print(\"Resultado da operação : \", multiplicacao)\n",
        "\n",
        "  print('-'*30)\n",
        "  print (\"DIVISÃO\")\n",
        "  print(complexo_1, \" / \", complexo_2,  \" / \", complexo_3)\n",
        "  divisao = complexo_1 / complexo_2 / complexo_3\n",
        "  print(\"Resultado da operação : \", divisao)\n",
        "  print('-'*30)\n",
        "\n",
        "  print('-'*30)\n",
        "  print(\"PRIMEIRO NÚMERO COMPLEXO \\n\")\n",
        "  print(\"Propriedade REAL: \",complexo_1.real)\n",
        "  print('Propriedade IMAGINÁRIA: ',complexo_1.imag)\n",
        "  print('-'*30)\n",
        "  print(\"SEGUNDO NÚMERO COMPLEXO \\n\")\n",
        "  print('Propriedade REAL: ',complexo_2.real)\n",
        "  print('Propriedade IMAGINÁRIA: ',complexo_2.imag)\n",
        "  print('-'*30)\n",
        "  print(\"TERCEIRO NÚMERO COMPLEXO \\n\")\n",
        "  print(\"Propriedade REAL: \",complexo_3.real)\n",
        "  print(\"Propriedade IMAGINÁRIA: \",complexo_3.imag)\n",
        "  print('-'*30)"
      ],
      "metadata": {
        "id": "xzaeGN-bq2kT"
      },
      "execution_count": null,
      "outputs": []
    }
  ]
}