{
  "nbformat": 4,
  "nbformat_minor": 0,
  "metadata": {
    "colab": {
      "provenance": [],
      "collapsed_sections": [],
      "authorship_tag": "ABX9TyMMrmUERLOTL7n9IyJ1glfK",
      "include_colab_link": true
    },
    "kernelspec": {
      "name": "python3",
      "display_name": "Python 3"
    },
    "language_info": {
      "name": "python"
    }
  },
  "cells": [
    {
      "cell_type": "markdown",
      "metadata": {
        "id": "view-in-github",
        "colab_type": "text"
      },
      "source": [
        "<a href=\"https://colab.research.google.com/github/LayaneSMA/SOFTEX/blob/main/MetodosGetSet.ipynb\" target=\"_parent\"><img src=\"https://colab.research.google.com/assets/colab-badge.svg\" alt=\"Open In Colab\"/></a>"
      ]
    },
    {
      "cell_type": "code",
      "execution_count": null,
      "metadata": {
        "id": "BCknAV-IvgmT"
      },
      "outputs": [],
      "source": [
        "# Crie uma classe e insira nela, no mínimo, dois atributos, \n",
        "# os quais devem ter um método acessor (get) e\n",
        "# um método modificador (set) para cada. Defina um objeto para cada atributo e\n",
        "# elabore um construtor para criar alguma regra."
      ]
    },
    {
      "cell_type": "code",
      "source": [
        "class Presidente():\n",
        "  def __init__(self,nome, partido):\n",
        "    self.usuario = nome \n",
        "    self.partido = partido \n",
        "\n",
        "  def get_nome (self):\n",
        "    return self.usuario\n",
        "  \n",
        "  def get_partido (self):\n",
        "    return self.partido\n",
        "\n",
        "  def set_nome(self,presidencia):\n",
        "    self.usuario = presidencia\n",
        "    \n",
        "  def set_partido(self,presidencia):\n",
        "    self.partido = presidencia"
      ],
      "metadata": {
        "id": "mJtYSGybIun7"
      },
      "execution_count": 62,
      "outputs": []
    },
    {
      "cell_type": "code",
      "source": [
        "objeto1 = Presidente(\"Bolsonaro\", \"PL\")\n",
        "objeto2 = Presidente (\"Bolsonaro\", \"PL\")\n",
        "\n",
        "print(\"O presidente atual é:\" , objeto1.get_nome(), \"do\", objeto2.get_partido() )"
      ],
      "metadata": {
        "id": "8no3hl2YJUqp"
      },
      "execution_count": null,
      "outputs": []
    },
    {
      "cell_type": "code",
      "source": [
        "novoPresidente = \"Lula\"\n",
        "objeto1.set_nome(novoPresidente)\n",
        "\n",
        "novoPartido = \"PT\"\n",
        "objeto2.set_partido(novoPartido)\n",
        "\n",
        "print(\"O próximo presidente a governar o Brasil, será :\", objeto1.get_nome(), \"do\",objeto2.get_partido() )"
      ],
      "metadata": {
        "id": "-zhHN3hGN44N"
      },
      "execution_count": null,
      "outputs": []
    }
  ]
}